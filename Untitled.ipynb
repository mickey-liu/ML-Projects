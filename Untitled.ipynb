{
 "cells": [
  {
   "cell_type": "code",
   "execution_count": 24,
   "metadata": {},
   "outputs": [],
   "source": [
    "from xgboost import XGBRegressor\n",
    "from sklearn.model_selection import train_test_split\n",
    "import pandas as pd\n",
    "import numpy as np\n",
    "from sklearn.preprocessing import Imputer"
   ]
  },
  {
   "cell_type": "code",
   "execution_count": 25,
   "metadata": {},
   "outputs": [],
   "source": [
    "dataset = pd.read_csv('train.csv')\n",
    "dataset.dropna(axis=0, subset=['SalePrice'], inplace=True)\n",
    "y = dataset.SalePrice\n",
    "X = dataset.drop('SalePrice', axis=1).select_dtypes(exclude=['object'])\n",
    "train_X, test_X, train_y, test_y = train_test_split(X.as_matrix(), y.as_matrix(), test_size=0.25)"
   ]
  },
  {
   "cell_type": "code",
   "execution_count": 26,
   "metadata": {},
   "outputs": [
    {
     "name": "stdout",
     "output_type": "stream",
     "text": [
      "(1095, 37)\n",
      "(1095,)\n",
      "(365, 37)\n",
      "(365,)\n"
     ]
    }
   ],
   "source": [
    "print(train_X.shape)\n",
    "print(train_y.shape)\n",
    "print(test_X.shape)\n",
    "print(test_y.shape)"
   ]
  },
  {
   "cell_type": "code",
   "execution_count": 27,
   "metadata": {},
   "outputs": [],
   "source": [
    "imputer = Imputer()\n",
    "train_X = imputer.fit_transform(train_X)\n",
    "test_X = imputer.transform(test_X)"
   ]
  },
  {
   "cell_type": "code",
   "execution_count": 28,
   "metadata": {},
   "outputs": [
    {
     "data": {
      "text/plain": [
       "XGBRegressor(base_score=0.5, booster='gbtree', colsample_bylevel=1,\n",
       "       colsample_bytree=1, gamma=0, learning_rate=0.1, max_delta_step=0,\n",
       "       max_depth=3, min_child_weight=1, missing=None, n_estimators=100,\n",
       "       n_jobs=1, nthread=None, objective='reg:linear', random_state=0,\n",
       "       reg_alpha=0, reg_lambda=1, scale_pos_weight=1, seed=None,\n",
       "       silent=True, subsample=1)"
      ]
     },
     "execution_count": 28,
     "metadata": {},
     "output_type": "execute_result"
    }
   ],
   "source": [
    "xgboost_model = XGBRegressor()\n",
    "xgboost_model.fit(train_X, train_y,verbose=False)"
   ]
  },
  {
   "cell_type": "code",
   "execution_count": 29,
   "metadata": {},
   "outputs": [],
   "source": [
    "predictions = xgboost_model.predict(test_X)"
   ]
  },
  {
   "cell_type": "code",
   "execution_count": 53,
   "metadata": {},
   "outputs": [
    {
     "name": "stdout",
     "output_type": "stream",
     "text": [
      "Mean Absolute Error: 15148.445526541096\n"
     ]
    }
   ],
   "source": [
    "from sklearn.metrics import mean_absolute_error\n",
    "xgboost_model_mae = mean_absolute_error(predictions, test_y)\n",
    "print(\"Mean Absolute Error: \" + str(mean_absolute_error(predictions, test_y)))"
   ]
  },
  {
   "cell_type": "code",
   "execution_count": 50,
   "metadata": {},
   "outputs": [
    {
     "name": "stdout",
     "output_type": "stream",
     "text": [
      "[0]\tvalidation_0-rmse:190830\n",
      "Will train until validation_0-rmse hasn't improved in 10 rounds.\n",
      "[1]\tvalidation_0-rmse:181742\n",
      "[2]\tvalidation_0-rmse:173072\n",
      "[3]\tvalidation_0-rmse:164954\n",
      "[4]\tvalidation_0-rmse:157143\n",
      "[5]\tvalidation_0-rmse:149968\n",
      "[6]\tvalidation_0-rmse:142979\n",
      "[7]\tvalidation_0-rmse:136385\n",
      "[8]\tvalidation_0-rmse:130155\n",
      "[9]\tvalidation_0-rmse:124253\n",
      "[10]\tvalidation_0-rmse:118714\n",
      "[11]\tvalidation_0-rmse:113301\n",
      "[12]\tvalidation_0-rmse:108411\n",
      "[13]\tvalidation_0-rmse:103504\n",
      "[14]\tvalidation_0-rmse:99010.8\n",
      "[15]\tvalidation_0-rmse:94744.4\n",
      "[16]\tvalidation_0-rmse:90678.9\n",
      "[17]\tvalidation_0-rmse:86886.8\n",
      "[18]\tvalidation_0-rmse:83347.7\n",
      "[19]\tvalidation_0-rmse:79952.3\n",
      "[20]\tvalidation_0-rmse:76768.5\n",
      "[21]\tvalidation_0-rmse:73610.7\n",
      "[22]\tvalidation_0-rmse:70570.1\n",
      "[23]\tvalidation_0-rmse:67848.6\n",
      "[24]\tvalidation_0-rmse:65283.3\n",
      "[25]\tvalidation_0-rmse:62772.8\n",
      "[26]\tvalidation_0-rmse:60437.2\n",
      "[27]\tvalidation_0-rmse:58241.9\n",
      "[28]\tvalidation_0-rmse:56212.9\n",
      "[29]\tvalidation_0-rmse:54289\n",
      "[30]\tvalidation_0-rmse:52472.4\n",
      "[31]\tvalidation_0-rmse:50653.4\n",
      "[32]\tvalidation_0-rmse:49059\n",
      "[33]\tvalidation_0-rmse:47702.9\n",
      "[34]\tvalidation_0-rmse:46275.2\n",
      "[35]\tvalidation_0-rmse:44978.5\n",
      "[36]\tvalidation_0-rmse:43741.8\n",
      "[37]\tvalidation_0-rmse:42618.8\n",
      "[38]\tvalidation_0-rmse:41588.8\n",
      "[39]\tvalidation_0-rmse:40537.9\n",
      "[40]\tvalidation_0-rmse:39530.4\n",
      "[41]\tvalidation_0-rmse:38586.5\n",
      "[42]\tvalidation_0-rmse:37740.3\n",
      "[43]\tvalidation_0-rmse:36910.5\n",
      "[44]\tvalidation_0-rmse:36160.6\n",
      "[45]\tvalidation_0-rmse:35503.3\n",
      "[46]\tvalidation_0-rmse:34948.8\n",
      "[47]\tvalidation_0-rmse:34325.1\n",
      "[48]\tvalidation_0-rmse:33720.5\n",
      "[49]\tvalidation_0-rmse:33247.3\n",
      "[50]\tvalidation_0-rmse:32716.1\n",
      "[51]\tvalidation_0-rmse:32270.7\n",
      "[52]\tvalidation_0-rmse:31876.8\n",
      "[53]\tvalidation_0-rmse:31555.8\n",
      "[54]\tvalidation_0-rmse:31185.5\n",
      "[55]\tvalidation_0-rmse:30887.3\n",
      "[56]\tvalidation_0-rmse:30560.8\n",
      "[57]\tvalidation_0-rmse:30240.1\n",
      "[58]\tvalidation_0-rmse:29872.4\n",
      "[59]\tvalidation_0-rmse:29606.6\n",
      "[60]\tvalidation_0-rmse:29312.7\n",
      "[61]\tvalidation_0-rmse:29093.3\n",
      "[62]\tvalidation_0-rmse:28876.2\n",
      "[63]\tvalidation_0-rmse:28661.6\n",
      "[64]\tvalidation_0-rmse:28475.2\n",
      "[65]\tvalidation_0-rmse:28295.8\n",
      "[66]\tvalidation_0-rmse:28125.2\n",
      "[67]\tvalidation_0-rmse:27975.4\n",
      "[68]\tvalidation_0-rmse:27798.4\n",
      "[69]\tvalidation_0-rmse:27661.8\n",
      "[70]\tvalidation_0-rmse:27535.7\n",
      "[71]\tvalidation_0-rmse:27386\n",
      "[72]\tvalidation_0-rmse:27285.9\n",
      "[73]\tvalidation_0-rmse:27119.4\n",
      "[74]\tvalidation_0-rmse:27041.9\n",
      "[75]\tvalidation_0-rmse:26966.4\n",
      "[76]\tvalidation_0-rmse:26928.5\n",
      "[77]\tvalidation_0-rmse:26826.3\n",
      "[78]\tvalidation_0-rmse:26739.7\n",
      "[79]\tvalidation_0-rmse:26628.1\n",
      "[80]\tvalidation_0-rmse:26483.7\n",
      "[81]\tvalidation_0-rmse:26380\n",
      "[82]\tvalidation_0-rmse:26308.7\n",
      "[83]\tvalidation_0-rmse:26242.3\n",
      "[84]\tvalidation_0-rmse:26153.5\n",
      "[85]\tvalidation_0-rmse:26111\n",
      "[86]\tvalidation_0-rmse:26054.9\n",
      "[87]\tvalidation_0-rmse:25980.2\n",
      "[88]\tvalidation_0-rmse:25924.2\n",
      "[89]\tvalidation_0-rmse:25925.7\n",
      "[90]\tvalidation_0-rmse:25861\n",
      "[91]\tvalidation_0-rmse:25784.6\n",
      "[92]\tvalidation_0-rmse:25738.4\n",
      "[93]\tvalidation_0-rmse:25668\n",
      "[94]\tvalidation_0-rmse:25644.4\n",
      "[95]\tvalidation_0-rmse:25612.5\n",
      "[96]\tvalidation_0-rmse:25551.9\n",
      "[97]\tvalidation_0-rmse:25481.8\n",
      "[98]\tvalidation_0-rmse:25415.5\n",
      "[99]\tvalidation_0-rmse:25350\n",
      "[100]\tvalidation_0-rmse:25283.6\n",
      "[101]\tvalidation_0-rmse:25240.4\n",
      "[102]\tvalidation_0-rmse:25193.5\n",
      "[103]\tvalidation_0-rmse:25178.6\n",
      "[104]\tvalidation_0-rmse:25155\n",
      "[105]\tvalidation_0-rmse:25097.1\n",
      "[106]\tvalidation_0-rmse:25140.5\n",
      "[107]\tvalidation_0-rmse:25101.4\n",
      "[108]\tvalidation_0-rmse:25082.1\n",
      "[109]\tvalidation_0-rmse:25131.6\n",
      "[110]\tvalidation_0-rmse:25091.7\n",
      "[111]\tvalidation_0-rmse:25043.5\n",
      "[112]\tvalidation_0-rmse:25074.5\n",
      "[113]\tvalidation_0-rmse:25045.6\n",
      "[114]\tvalidation_0-rmse:25022.8\n",
      "[115]\tvalidation_0-rmse:24979.9\n",
      "[116]\tvalidation_0-rmse:24946.4\n",
      "[117]\tvalidation_0-rmse:24995.1\n",
      "[118]\tvalidation_0-rmse:24983.3\n",
      "[119]\tvalidation_0-rmse:24918.6\n",
      "[120]\tvalidation_0-rmse:24909.7\n",
      "[121]\tvalidation_0-rmse:24957.2\n",
      "[122]\tvalidation_0-rmse:24911.1\n",
      "[123]\tvalidation_0-rmse:24890.4\n",
      "[124]\tvalidation_0-rmse:24882.6\n",
      "[125]\tvalidation_0-rmse:24878.4\n",
      "[126]\tvalidation_0-rmse:24849.4\n",
      "[127]\tvalidation_0-rmse:24866.4\n",
      "[128]\tvalidation_0-rmse:24847.6\n",
      "[129]\tvalidation_0-rmse:24845.2\n",
      "[130]\tvalidation_0-rmse:24828.2\n",
      "[131]\tvalidation_0-rmse:24757.5\n",
      "[132]\tvalidation_0-rmse:24751\n",
      "[133]\tvalidation_0-rmse:24725.3\n",
      "[134]\tvalidation_0-rmse:24769.5\n",
      "[135]\tvalidation_0-rmse:24753.4\n",
      "[136]\tvalidation_0-rmse:24729.7\n",
      "[137]\tvalidation_0-rmse:24735.6\n",
      "[138]\tvalidation_0-rmse:24712.4\n",
      "[139]\tvalidation_0-rmse:24664.2\n",
      "[140]\tvalidation_0-rmse:24650.2\n",
      "[141]\tvalidation_0-rmse:24673.6\n",
      "[142]\tvalidation_0-rmse:24684.6\n",
      "[143]\tvalidation_0-rmse:24672.9\n",
      "[144]\tvalidation_0-rmse:24656.1\n",
      "[145]\tvalidation_0-rmse:24621.1\n",
      "[146]\tvalidation_0-rmse:24637.1\n",
      "[147]\tvalidation_0-rmse:24618.2\n",
      "[148]\tvalidation_0-rmse:24627.4\n",
      "[149]\tvalidation_0-rmse:24622.8\n",
      "[150]\tvalidation_0-rmse:24591.1\n",
      "[151]\tvalidation_0-rmse:24547.7\n",
      "[152]\tvalidation_0-rmse:24559.1\n",
      "[153]\tvalidation_0-rmse:24543.6\n",
      "[154]\tvalidation_0-rmse:24539.7\n",
      "[155]\tvalidation_0-rmse:24527.6\n",
      "[156]\tvalidation_0-rmse:24522.6\n",
      "[157]\tvalidation_0-rmse:24505.7\n",
      "[158]\tvalidation_0-rmse:24467.7\n",
      "[159]\tvalidation_0-rmse:24457.9\n",
      "[160]\tvalidation_0-rmse:24454.3\n",
      "[161]\tvalidation_0-rmse:24424.9\n",
      "[162]\tvalidation_0-rmse:24410.5\n",
      "[163]\tvalidation_0-rmse:24385.9\n",
      "[164]\tvalidation_0-rmse:24375.1\n",
      "[165]\tvalidation_0-rmse:24395.8\n",
      "[166]\tvalidation_0-rmse:24361.4\n",
      "[167]\tvalidation_0-rmse:24358\n",
      "[168]\tvalidation_0-rmse:24362.4\n",
      "[169]\tvalidation_0-rmse:24356\n",
      "[170]\tvalidation_0-rmse:24351.4\n",
      "[171]\tvalidation_0-rmse:24350.6\n",
      "[172]\tvalidation_0-rmse:24370.4\n",
      "[173]\tvalidation_0-rmse:24363.4\n",
      "[174]\tvalidation_0-rmse:24358.8\n",
      "[175]\tvalidation_0-rmse:24360.3\n",
      "[176]\tvalidation_0-rmse:24347.9\n",
      "[177]\tvalidation_0-rmse:24347.1\n",
      "[178]\tvalidation_0-rmse:24351.6\n",
      "[179]\tvalidation_0-rmse:24322.8\n",
      "[180]\tvalidation_0-rmse:24309.8\n",
      "[181]\tvalidation_0-rmse:24288\n",
      "[182]\tvalidation_0-rmse:24301.9\n",
      "[183]\tvalidation_0-rmse:24277.5\n",
      "[184]\tvalidation_0-rmse:24251.8\n",
      "[185]\tvalidation_0-rmse:24244.8\n",
      "[186]\tvalidation_0-rmse:24249.4\n",
      "[187]\tvalidation_0-rmse:24251.7\n",
      "[188]\tvalidation_0-rmse:24251.6\n",
      "[189]\tvalidation_0-rmse:24229.9\n",
      "[190]\tvalidation_0-rmse:24238.8\n",
      "[191]\tvalidation_0-rmse:24238.2\n",
      "[192]\tvalidation_0-rmse:24219.1\n",
      "[193]\tvalidation_0-rmse:24221.8\n",
      "[194]\tvalidation_0-rmse:24226.5\n",
      "[195]\tvalidation_0-rmse:24239.6\n",
      "[196]\tvalidation_0-rmse:24212.1\n",
      "[197]\tvalidation_0-rmse:24201.8\n",
      "[198]\tvalidation_0-rmse:24198.6\n",
      "[199]\tvalidation_0-rmse:24188.4\n",
      "[200]\tvalidation_0-rmse:24182.7\n",
      "[201]\tvalidation_0-rmse:24181.8\n",
      "[202]\tvalidation_0-rmse:24170.5\n",
      "[203]\tvalidation_0-rmse:24171.8\n",
      "[204]\tvalidation_0-rmse:24168.9\n",
      "[205]\tvalidation_0-rmse:24153.5\n",
      "[206]\tvalidation_0-rmse:24159.7\n",
      "[207]\tvalidation_0-rmse:24169.1\n",
      "[208]\tvalidation_0-rmse:24181.3\n",
      "[209]\tvalidation_0-rmse:24178.9\n",
      "[210]\tvalidation_0-rmse:24185.6\n",
      "[211]\tvalidation_0-rmse:24187.5\n",
      "[212]\tvalidation_0-rmse:24187\n",
      "[213]\tvalidation_0-rmse:24186.6\n",
      "[214]\tvalidation_0-rmse:24180.3\n",
      "[215]\tvalidation_0-rmse:24186.4\n",
      "Stopping. Best iteration:\n",
      "[205]\tvalidation_0-rmse:24153.5\n",
      "\n"
     ]
    },
    {
     "data": {
      "text/plain": [
       "XGBRegressor(base_score=0.5, booster='gbtree', colsample_bylevel=1,\n",
       "       colsample_bytree=1, gamma=0, learning_rate=0.05, max_delta_step=0,\n",
       "       max_depth=3, min_child_weight=1, missing=None, n_estimators=1000,\n",
       "       n_jobs=1, nthread=None, objective='reg:linear', random_state=0,\n",
       "       reg_alpha=0, reg_lambda=1, scale_pos_weight=1, seed=None,\n",
       "       silent=True, subsample=1)"
      ]
     },
     "execution_count": 50,
     "metadata": {},
     "output_type": "execute_result"
    }
   ],
   "source": [
    "##Adding hyper-parameters to improve model\n",
    "new_xgb_model = XGBRegressor(learning_rate=0.05, n_estimators=1000)\n",
    "new_xgb_model.fit(train_X, train_y, eval_set=[(test_X, test_y)], early_stopping_rounds=10)"
   ]
  },
  {
   "cell_type": "code",
   "execution_count": 54,
   "metadata": {},
   "outputs": [
    {
     "name": "stdout",
     "output_type": "stream",
     "text": [
      "Mean Absolute Error: 14993.584985017123\n"
     ]
    }
   ],
   "source": [
    "new_predictions = new_xgb_model.predict(test_X)\n",
    "new_xgb_model_mae = mean_absolute_error(new_predictions, test_y)\n",
    "print(\"Mean Absolute Error: \"+str(mean_absolute_error(new_predictions, test_y)))"
   ]
  },
  {
   "cell_type": "code",
   "execution_count": 58,
   "metadata": {},
   "outputs": [
    {
     "name": "stdout",
     "output_type": "stream",
     "text": [
      "New Model with 1000 estimators and learning_rate=0.05 resulted in MAE of 14993.585\n"
     ]
    }
   ],
   "source": [
    "print(\"New Model with 1000 estimators and learning_rate=0.05 resulted in MAE of %5.3f\" % new_xgb_model_mae)"
   ]
  },
  {
   "cell_type": "code",
   "execution_count": 64,
   "metadata": {},
   "outputs": [
    {
     "name": "stdout",
     "output_type": "stream",
     "text": [
      "Final MAE: 12237.0599\n"
     ]
    }
   ],
   "source": [
    "final_model = XGBRegressor(learning_rate=0.05, n_estimators=1000)\n",
    "final_model.fit(X.as_matrix(), y.as_matrix())\n",
    "final_prediction = new_xgb_model.predict(X.as_matrix())\n",
    "print(\"Final MAE: %4.4f\" % mean_absolute_error(final_prediction, y.as_matrix()))\n"
   ]
  },
  {
   "cell_type": "code",
   "execution_count": null,
   "metadata": {},
   "outputs": [],
   "source": []
  }
 ],
 "metadata": {
  "kernelspec": {
   "display_name": "Python 3",
   "language": "python",
   "name": "python3"
  },
  "language_info": {
   "codemirror_mode": {
    "name": "ipython",
    "version": 3
   },
   "file_extension": ".py",
   "mimetype": "text/x-python",
   "name": "python",
   "nbconvert_exporter": "python",
   "pygments_lexer": "ipython3",
   "version": "3.6.4"
  }
 },
 "nbformat": 4,
 "nbformat_minor": 2
}
